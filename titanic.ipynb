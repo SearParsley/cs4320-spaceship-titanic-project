{
 "cells": [
  {
   "cell_type": "markdown",
   "id": "881fc3b5",
   "metadata": {
    "papermill": {
     "duration": 0.015147,
     "end_time": "2022-09-30T02:18:05.258501",
     "exception": false,
     "start_time": "2022-09-30T02:18:05.243354",
     "status": "completed"
    },
    "tags": []
   },
   "source": [
    "## Spaceship Titanic Made Easy 🚢👽\n",
    "The goals of this notebook is to make this data and this competition easy for you.\n",
    "___"
   ]
  },
  {
   "cell_type": "markdown",
   "id": "98b17e2a",
   "metadata": {
    "papermill": {
     "duration": 0.013077,
     "end_time": "2022-09-30T02:18:05.285134",
     "exception": false,
     "start_time": "2022-09-30T02:18:05.272057",
     "status": "completed"
    },
    "tags": []
   },
   "source": [
    "**Description:**\n",
    "\n",
    "Welcome to the year 2912, where your data science skills are needed to solve a cosmic mystery. We've received a transmission from four lightyears away and things aren't looking good.\n",
    "\n",
    "The Spaceship Titanic was an interstellar passenger liner launched a month ago. With almost 13,000 passengers on board, the vessel set out on its maiden voyage transporting emigrants from our solar system to three newly habitable exoplanets orbiting nearby stars.\n",
    "\n",
    "While rounding Alpha Centauri en route to its first destination—the torrid 55 Cancri E—the unwary Spaceship Titanic collided with a spacetime anomaly hidden within a dust cloud. Sadly, it met a similar fate as its namesake from 1000 years before. Though the ship stayed intact, almost half of the passengers were transported to an alternate dimension!\n",
    "\n",
    "To help rescue crews and retrieve the lost passengers, you are challenged to predict which passengers were transported by the anomaly using records recovered from the spaceship’s damaged computer system.\n",
    "\n",
    "Help save them and change history!\n",
    "___"
   ]
  },
  {
   "cell_type": "markdown",
   "id": "8092b2e1",
   "metadata": {
    "papermill": {
     "duration": 0.01324,
     "end_time": "2022-09-30T02:18:05.313426",
     "exception": false,
     "start_time": "2022-09-30T02:18:05.300186",
     "status": "completed"
    },
    "tags": []
   },
   "source": [
    "# 1.Importing Libraries 😀"
   ]
  },
  {
   "cell_type": "code",
   "execution_count": 1,
   "id": "4fcea84b",
   "metadata": {
    "papermill": {
     "duration": 1.807358,
     "end_time": "2022-09-30T02:18:07.134313",
     "exception": false,
     "start_time": "2022-09-30T02:18:05.326955",
     "status": "completed"
    },
    "tags": []
   },
   "outputs": [],
   "source": [
    "\n",
    "import numpy as np\n",
    "import pandas as pd\n",
    "import matplotlib.pyplot as plt\n",
    "%matplotlib inline\n",
    "import seaborn as sns\n",
    "sns.set(style='darkgrid', font_scale=2)\n",
    "import warnings\n",
    "warnings.filterwarnings('ignore')\n",
    "\n",
    "# Sklearn\n",
    "from sklearn.model_selection import train_test_split\n",
    "from sklearn.metrics import accuracy_score\n",
    "from sklearn.preprocessing import LabelEncoder\n",
    "\n",
    "# Models\n",
    "from xgboost import XGBClassifier\n",
    "from catboost import CatBoostClassifier"
   ]
  },
  {
   "cell_type": "markdown",
   "id": "d30f1414",
   "metadata": {
    "papermill": {
     "duration": 0.013778,
     "end_time": "2022-09-30T02:18:07.163197",
     "exception": false,
     "start_time": "2022-09-30T02:18:07.149419",
     "status": "completed"
    },
    "tags": []
   },
   "source": [
    "# 2- Loading the Data 📅"
   ]
  },
  {
   "cell_type": "code",
   "execution_count": 2,
   "id": "3cffd802",
   "metadata": {
    "papermill": {
     "duration": 0.141978,
     "end_time": "2022-09-30T02:18:07.319563",
     "exception": false,
     "start_time": "2022-09-30T02:18:07.177585",
     "status": "completed"
    },
    "tags": []
   },
   "outputs": [
    {
     "ename": "FileNotFoundError",
     "evalue": "[Errno 2] No such file or directory: '../input/spaceship-titanic/train.csv'",
     "output_type": "error",
     "traceback": [
      "\u001b[31m---------------------------------------------------------------------------\u001b[39m",
      "\u001b[31mFileNotFoundError\u001b[39m                         Traceback (most recent call last)",
      "\u001b[36mCell\u001b[39m\u001b[36m \u001b[39m\u001b[32mIn[2]\u001b[39m\u001b[32m, line 1\u001b[39m\n\u001b[32m----> \u001b[39m\u001b[32m1\u001b[39m df_train = \u001b[43mpd\u001b[49m\u001b[43m.\u001b[49m\u001b[43mread_csv\u001b[49m\u001b[43m(\u001b[49m\u001b[33;43m'\u001b[39;49m\u001b[33;43m../input/spaceship-titanic/train.csv\u001b[39;49m\u001b[33;43m'\u001b[39;49m\u001b[43m)\u001b[49m\n\u001b[32m      2\u001b[39m df_test = pd.read_csv(\u001b[33m'\u001b[39m\u001b[33m../input/spaceship-titanic/test.csv\u001b[39m\u001b[33m'\u001b[39m)\n\u001b[32m      4\u001b[39m df_train.head()\n",
      "\u001b[36mFile \u001b[39m\u001b[32m~\\anaconda3\\envs\\CS4320\\Lib\\site-packages\\pandas\\io\\parsers\\readers.py:1026\u001b[39m, in \u001b[36mread_csv\u001b[39m\u001b[34m(filepath_or_buffer, sep, delimiter, header, names, index_col, usecols, dtype, engine, converters, true_values, false_values, skipinitialspace, skiprows, skipfooter, nrows, na_values, keep_default_na, na_filter, verbose, skip_blank_lines, parse_dates, infer_datetime_format, keep_date_col, date_parser, date_format, dayfirst, cache_dates, iterator, chunksize, compression, thousands, decimal, lineterminator, quotechar, quoting, doublequote, escapechar, comment, encoding, encoding_errors, dialect, on_bad_lines, delim_whitespace, low_memory, memory_map, float_precision, storage_options, dtype_backend)\u001b[39m\n\u001b[32m   1013\u001b[39m kwds_defaults = _refine_defaults_read(\n\u001b[32m   1014\u001b[39m     dialect,\n\u001b[32m   1015\u001b[39m     delimiter,\n\u001b[32m   (...)\u001b[39m\u001b[32m   1022\u001b[39m     dtype_backend=dtype_backend,\n\u001b[32m   1023\u001b[39m )\n\u001b[32m   1024\u001b[39m kwds.update(kwds_defaults)\n\u001b[32m-> \u001b[39m\u001b[32m1026\u001b[39m \u001b[38;5;28;01mreturn\u001b[39;00m \u001b[43m_read\u001b[49m\u001b[43m(\u001b[49m\u001b[43mfilepath_or_buffer\u001b[49m\u001b[43m,\u001b[49m\u001b[43m \u001b[49m\u001b[43mkwds\u001b[49m\u001b[43m)\u001b[49m\n",
      "\u001b[36mFile \u001b[39m\u001b[32m~\\anaconda3\\envs\\CS4320\\Lib\\site-packages\\pandas\\io\\parsers\\readers.py:620\u001b[39m, in \u001b[36m_read\u001b[39m\u001b[34m(filepath_or_buffer, kwds)\u001b[39m\n\u001b[32m    617\u001b[39m _validate_names(kwds.get(\u001b[33m\"\u001b[39m\u001b[33mnames\u001b[39m\u001b[33m\"\u001b[39m, \u001b[38;5;28;01mNone\u001b[39;00m))\n\u001b[32m    619\u001b[39m \u001b[38;5;66;03m# Create the parser.\u001b[39;00m\n\u001b[32m--> \u001b[39m\u001b[32m620\u001b[39m parser = \u001b[43mTextFileReader\u001b[49m\u001b[43m(\u001b[49m\u001b[43mfilepath_or_buffer\u001b[49m\u001b[43m,\u001b[49m\u001b[43m \u001b[49m\u001b[43m*\u001b[49m\u001b[43m*\u001b[49m\u001b[43mkwds\u001b[49m\u001b[43m)\u001b[49m\n\u001b[32m    622\u001b[39m \u001b[38;5;28;01mif\u001b[39;00m chunksize \u001b[38;5;129;01mor\u001b[39;00m iterator:\n\u001b[32m    623\u001b[39m     \u001b[38;5;28;01mreturn\u001b[39;00m parser\n",
      "\u001b[36mFile \u001b[39m\u001b[32m~\\anaconda3\\envs\\CS4320\\Lib\\site-packages\\pandas\\io\\parsers\\readers.py:1620\u001b[39m, in \u001b[36mTextFileReader.__init__\u001b[39m\u001b[34m(self, f, engine, **kwds)\u001b[39m\n\u001b[32m   1617\u001b[39m     \u001b[38;5;28mself\u001b[39m.options[\u001b[33m\"\u001b[39m\u001b[33mhas_index_names\u001b[39m\u001b[33m\"\u001b[39m] = kwds[\u001b[33m\"\u001b[39m\u001b[33mhas_index_names\u001b[39m\u001b[33m\"\u001b[39m]\n\u001b[32m   1619\u001b[39m \u001b[38;5;28mself\u001b[39m.handles: IOHandles | \u001b[38;5;28;01mNone\u001b[39;00m = \u001b[38;5;28;01mNone\u001b[39;00m\n\u001b[32m-> \u001b[39m\u001b[32m1620\u001b[39m \u001b[38;5;28mself\u001b[39m._engine = \u001b[38;5;28;43mself\u001b[39;49m\u001b[43m.\u001b[49m\u001b[43m_make_engine\u001b[49m\u001b[43m(\u001b[49m\u001b[43mf\u001b[49m\u001b[43m,\u001b[49m\u001b[43m \u001b[49m\u001b[38;5;28;43mself\u001b[39;49m\u001b[43m.\u001b[49m\u001b[43mengine\u001b[49m\u001b[43m)\u001b[49m\n",
      "\u001b[36mFile \u001b[39m\u001b[32m~\\anaconda3\\envs\\CS4320\\Lib\\site-packages\\pandas\\io\\parsers\\readers.py:1880\u001b[39m, in \u001b[36mTextFileReader._make_engine\u001b[39m\u001b[34m(self, f, engine)\u001b[39m\n\u001b[32m   1878\u001b[39m     \u001b[38;5;28;01mif\u001b[39;00m \u001b[33m\"\u001b[39m\u001b[33mb\u001b[39m\u001b[33m\"\u001b[39m \u001b[38;5;129;01mnot\u001b[39;00m \u001b[38;5;129;01min\u001b[39;00m mode:\n\u001b[32m   1879\u001b[39m         mode += \u001b[33m\"\u001b[39m\u001b[33mb\u001b[39m\u001b[33m\"\u001b[39m\n\u001b[32m-> \u001b[39m\u001b[32m1880\u001b[39m \u001b[38;5;28mself\u001b[39m.handles = \u001b[43mget_handle\u001b[49m\u001b[43m(\u001b[49m\n\u001b[32m   1881\u001b[39m \u001b[43m    \u001b[49m\u001b[43mf\u001b[49m\u001b[43m,\u001b[49m\n\u001b[32m   1882\u001b[39m \u001b[43m    \u001b[49m\u001b[43mmode\u001b[49m\u001b[43m,\u001b[49m\n\u001b[32m   1883\u001b[39m \u001b[43m    \u001b[49m\u001b[43mencoding\u001b[49m\u001b[43m=\u001b[49m\u001b[38;5;28;43mself\u001b[39;49m\u001b[43m.\u001b[49m\u001b[43moptions\u001b[49m\u001b[43m.\u001b[49m\u001b[43mget\u001b[49m\u001b[43m(\u001b[49m\u001b[33;43m\"\u001b[39;49m\u001b[33;43mencoding\u001b[39;49m\u001b[33;43m\"\u001b[39;49m\u001b[43m,\u001b[49m\u001b[43m \u001b[49m\u001b[38;5;28;43;01mNone\u001b[39;49;00m\u001b[43m)\u001b[49m\u001b[43m,\u001b[49m\n\u001b[32m   1884\u001b[39m \u001b[43m    \u001b[49m\u001b[43mcompression\u001b[49m\u001b[43m=\u001b[49m\u001b[38;5;28;43mself\u001b[39;49m\u001b[43m.\u001b[49m\u001b[43moptions\u001b[49m\u001b[43m.\u001b[49m\u001b[43mget\u001b[49m\u001b[43m(\u001b[49m\u001b[33;43m\"\u001b[39;49m\u001b[33;43mcompression\u001b[39;49m\u001b[33;43m\"\u001b[39;49m\u001b[43m,\u001b[49m\u001b[43m \u001b[49m\u001b[38;5;28;43;01mNone\u001b[39;49;00m\u001b[43m)\u001b[49m\u001b[43m,\u001b[49m\n\u001b[32m   1885\u001b[39m \u001b[43m    \u001b[49m\u001b[43mmemory_map\u001b[49m\u001b[43m=\u001b[49m\u001b[38;5;28;43mself\u001b[39;49m\u001b[43m.\u001b[49m\u001b[43moptions\u001b[49m\u001b[43m.\u001b[49m\u001b[43mget\u001b[49m\u001b[43m(\u001b[49m\u001b[33;43m\"\u001b[39;49m\u001b[33;43mmemory_map\u001b[39;49m\u001b[33;43m\"\u001b[39;49m\u001b[43m,\u001b[49m\u001b[43m \u001b[49m\u001b[38;5;28;43;01mFalse\u001b[39;49;00m\u001b[43m)\u001b[49m\u001b[43m,\u001b[49m\n\u001b[32m   1886\u001b[39m \u001b[43m    \u001b[49m\u001b[43mis_text\u001b[49m\u001b[43m=\u001b[49m\u001b[43mis_text\u001b[49m\u001b[43m,\u001b[49m\n\u001b[32m   1887\u001b[39m \u001b[43m    \u001b[49m\u001b[43merrors\u001b[49m\u001b[43m=\u001b[49m\u001b[38;5;28;43mself\u001b[39;49m\u001b[43m.\u001b[49m\u001b[43moptions\u001b[49m\u001b[43m.\u001b[49m\u001b[43mget\u001b[49m\u001b[43m(\u001b[49m\u001b[33;43m\"\u001b[39;49m\u001b[33;43mencoding_errors\u001b[39;49m\u001b[33;43m\"\u001b[39;49m\u001b[43m,\u001b[49m\u001b[43m \u001b[49m\u001b[33;43m\"\u001b[39;49m\u001b[33;43mstrict\u001b[39;49m\u001b[33;43m\"\u001b[39;49m\u001b[43m)\u001b[49m\u001b[43m,\u001b[49m\n\u001b[32m   1888\u001b[39m \u001b[43m    \u001b[49m\u001b[43mstorage_options\u001b[49m\u001b[43m=\u001b[49m\u001b[38;5;28;43mself\u001b[39;49m\u001b[43m.\u001b[49m\u001b[43moptions\u001b[49m\u001b[43m.\u001b[49m\u001b[43mget\u001b[49m\u001b[43m(\u001b[49m\u001b[33;43m\"\u001b[39;49m\u001b[33;43mstorage_options\u001b[39;49m\u001b[33;43m\"\u001b[39;49m\u001b[43m,\u001b[49m\u001b[43m \u001b[49m\u001b[38;5;28;43;01mNone\u001b[39;49;00m\u001b[43m)\u001b[49m\u001b[43m,\u001b[49m\n\u001b[32m   1889\u001b[39m \u001b[43m\u001b[49m\u001b[43m)\u001b[49m\n\u001b[32m   1890\u001b[39m \u001b[38;5;28;01massert\u001b[39;00m \u001b[38;5;28mself\u001b[39m.handles \u001b[38;5;129;01mis\u001b[39;00m \u001b[38;5;129;01mnot\u001b[39;00m \u001b[38;5;28;01mNone\u001b[39;00m\n\u001b[32m   1891\u001b[39m f = \u001b[38;5;28mself\u001b[39m.handles.handle\n",
      "\u001b[36mFile \u001b[39m\u001b[32m~\\anaconda3\\envs\\CS4320\\Lib\\site-packages\\pandas\\io\\common.py:873\u001b[39m, in \u001b[36mget_handle\u001b[39m\u001b[34m(path_or_buf, mode, encoding, compression, memory_map, is_text, errors, storage_options)\u001b[39m\n\u001b[32m    868\u001b[39m \u001b[38;5;28;01melif\u001b[39;00m \u001b[38;5;28misinstance\u001b[39m(handle, \u001b[38;5;28mstr\u001b[39m):\n\u001b[32m    869\u001b[39m     \u001b[38;5;66;03m# Check whether the filename is to be opened in binary mode.\u001b[39;00m\n\u001b[32m    870\u001b[39m     \u001b[38;5;66;03m# Binary mode does not support 'encoding' and 'newline'.\u001b[39;00m\n\u001b[32m    871\u001b[39m     \u001b[38;5;28;01mif\u001b[39;00m ioargs.encoding \u001b[38;5;129;01mand\u001b[39;00m \u001b[33m\"\u001b[39m\u001b[33mb\u001b[39m\u001b[33m\"\u001b[39m \u001b[38;5;129;01mnot\u001b[39;00m \u001b[38;5;129;01min\u001b[39;00m ioargs.mode:\n\u001b[32m    872\u001b[39m         \u001b[38;5;66;03m# Encoding\u001b[39;00m\n\u001b[32m--> \u001b[39m\u001b[32m873\u001b[39m         handle = \u001b[38;5;28;43mopen\u001b[39;49m\u001b[43m(\u001b[49m\n\u001b[32m    874\u001b[39m \u001b[43m            \u001b[49m\u001b[43mhandle\u001b[49m\u001b[43m,\u001b[49m\n\u001b[32m    875\u001b[39m \u001b[43m            \u001b[49m\u001b[43mioargs\u001b[49m\u001b[43m.\u001b[49m\u001b[43mmode\u001b[49m\u001b[43m,\u001b[49m\n\u001b[32m    876\u001b[39m \u001b[43m            \u001b[49m\u001b[43mencoding\u001b[49m\u001b[43m=\u001b[49m\u001b[43mioargs\u001b[49m\u001b[43m.\u001b[49m\u001b[43mencoding\u001b[49m\u001b[43m,\u001b[49m\n\u001b[32m    877\u001b[39m \u001b[43m            \u001b[49m\u001b[43merrors\u001b[49m\u001b[43m=\u001b[49m\u001b[43merrors\u001b[49m\u001b[43m,\u001b[49m\n\u001b[32m    878\u001b[39m \u001b[43m            \u001b[49m\u001b[43mnewline\u001b[49m\u001b[43m=\u001b[49m\u001b[33;43m\"\u001b[39;49m\u001b[33;43m\"\u001b[39;49m\u001b[43m,\u001b[49m\n\u001b[32m    879\u001b[39m \u001b[43m        \u001b[49m\u001b[43m)\u001b[49m\n\u001b[32m    880\u001b[39m     \u001b[38;5;28;01melse\u001b[39;00m:\n\u001b[32m    881\u001b[39m         \u001b[38;5;66;03m# Binary mode\u001b[39;00m\n\u001b[32m    882\u001b[39m         handle = \u001b[38;5;28mopen\u001b[39m(handle, ioargs.mode)\n",
      "\u001b[31mFileNotFoundError\u001b[39m: [Errno 2] No such file or directory: '../input/spaceship-titanic/train.csv'"
     ]
    }
   ],
   "source": [
    "df_train = pd.read_csv('../input/spaceship-titanic/train.csv')\n",
    "df_test = pd.read_csv('../input/spaceship-titanic/test.csv')\n",
    "\n",
    "df_train.head()"
   ]
  },
  {
   "cell_type": "markdown",
   "id": "86a8ed37",
   "metadata": {
    "papermill": {
     "duration": 0.013987,
     "end_time": "2022-09-30T02:18:07.348938",
     "exception": false,
     "start_time": "2022-09-30T02:18:07.334951",
     "status": "completed"
    },
    "tags": []
   },
   "source": [
    "**Columns Description**\n",
    "* PassengerId - A unique Id for each passenger. Each Id takes the form gggg_pp where gggg indicates a group the passenger is travelling with and pp is their number within the group. People in a group are often family members, but not always.\n",
    "* HomePlanet - The planet the passenger departed from, typically their planet of permanent residence.\n",
    "* CryoSleep - Indicates whether the passenger elected to be put into suspended animation for the duration of the voyage. Passengers in cryosleep are confined to their cabins.\n",
    "* Cabin - The cabin number where the passenger is staying. Takes the form deck/num/side, where side can be either P for Port or S for Starboard.\n",
    "* Destination - The planet the passenger will be debarking to.\n",
    "* Age - The age of the passenger.\n",
    "* VIP - Whether the passenger has paid for special VIP service during the voyage.\n",
    "* RoomService, FoodCourt, ShoppingMall, Spa, VRDeck - Amount the passenger has billed at each of the Spaceship Titanic's many luxury amenities.\n",
    "* Name - The first and last names of the passenger.\n",
    "* Transported - Whether the passenger was transported to another dimension. This is the target, the column you are trying to predict."
   ]
  },
  {
   "cell_type": "markdown",
   "id": "b5669dfc",
   "metadata": {
    "papermill": {
     "duration": 0.014125,
     "end_time": "2022-09-30T02:18:07.377279",
     "exception": false,
     "start_time": "2022-09-30T02:18:07.363154",
     "status": "completed"
    },
    "tags": []
   },
   "source": [
    "# 3- Let's Explore 👓"
   ]
  },
  {
   "cell_type": "code",
   "execution_count": null,
   "id": "266ab22f",
   "metadata": {
    "papermill": {
     "duration": 0.02941,
     "end_time": "2022-09-30T02:18:07.421126",
     "exception": false,
     "start_time": "2022-09-30T02:18:07.391716",
     "status": "completed"
    },
    "tags": []
   },
   "outputs": [],
   "source": [
    "r1,c1 = df_train.shape\n",
    "print('The training data has {} rows and {} columns'.format(r1,c1))\n",
    "r2,c2 = df_test.shape\n",
    "print('The validation data has {} rows and {} columns'.format(r2,c2))"
   ]
  },
  {
   "cell_type": "code",
   "execution_count": null,
   "id": "94e5967b",
   "metadata": {
    "papermill": {
     "duration": 0.054381,
     "end_time": "2022-09-30T02:18:07.490655",
     "exception": false,
     "start_time": "2022-09-30T02:18:07.436274",
     "status": "completed"
    },
    "tags": []
   },
   "outputs": [],
   "source": [
    "df_train.info()"
   ]
  },
  {
   "cell_type": "code",
   "execution_count": null,
   "id": "98ea4b46",
   "metadata": {
    "papermill": {
     "duration": 0.058164,
     "end_time": "2022-09-30T02:18:07.564201",
     "exception": false,
     "start_time": "2022-09-30T02:18:07.506037",
     "status": "completed"
    },
    "tags": []
   },
   "outputs": [],
   "source": [
    "df_train.describe()"
   ]
  },
  {
   "cell_type": "code",
   "execution_count": null,
   "id": "eb012eca",
   "metadata": {
    "papermill": {
     "duration": 0.051292,
     "end_time": "2022-09-30T02:18:07.630511",
     "exception": false,
     "start_time": "2022-09-30T02:18:07.579219",
     "status": "completed"
    },
    "tags": []
   },
   "outputs": [],
   "source": [
    "df_test.describe()"
   ]
  },
  {
   "cell_type": "markdown",
   "id": "1e825eef",
   "metadata": {
    "papermill": {
     "duration": 0.015551,
     "end_time": "2022-09-30T02:18:07.661440",
     "exception": false,
     "start_time": "2022-09-30T02:18:07.645889",
     "status": "completed"
    },
    "tags": []
   },
   "source": [
    "### 3.B Missing values 🤔"
   ]
  },
  {
   "cell_type": "code",
   "execution_count": null,
   "id": "33d952b4",
   "metadata": {
    "papermill": {
     "duration": 0.035985,
     "end_time": "2022-09-30T02:18:07.712563",
     "exception": false,
     "start_time": "2022-09-30T02:18:07.676578",
     "status": "completed"
    },
    "tags": []
   },
   "outputs": [],
   "source": [
    "# To see the quantity of null vaues in all the columns.\n",
    "# c1 stands for the number of columns in the training data.\n",
    "\n",
    "\n",
    "print('MISSING VALUES IN TRAINING DATASET:')\n",
    "print(df_train.isna().sum().nlargest(c1))\n",
    "print('')\n",
    "print('MISSING VALUES IN VALIDATION DATASET:')\n",
    "print(df_test.isna().sum().nlargest(c2))"
   ]
  },
  {
   "cell_type": "code",
   "execution_count": null,
   "id": "0d1b62d5",
   "metadata": {
    "papermill": {
     "duration": 0.023717,
     "end_time": "2022-09-30T02:18:07.750862",
     "exception": false,
     "start_time": "2022-09-30T02:18:07.727145",
     "status": "completed"
    },
    "tags": []
   },
   "outputs": [],
   "source": [
    "df_train.set_index('PassengerId',inplace=True)\n",
    "df_test.set_index('PassengerId',inplace=True)"
   ]
  },
  {
   "cell_type": "markdown",
   "id": "a341f921",
   "metadata": {
    "papermill": {
     "duration": 0.01394,
     "end_time": "2022-09-30T02:18:07.779101",
     "exception": false,
     "start_time": "2022-09-30T02:18:07.765161",
     "status": "completed"
    },
    "tags": []
   },
   "source": [
    "### 3.C Null Replacement 🤩"
   ]
  },
  {
   "cell_type": "code",
   "execution_count": null,
   "id": "38aa333b",
   "metadata": {
    "papermill": {
     "duration": 0.048567,
     "end_time": "2022-09-30T02:18:07.841969",
     "exception": false,
     "start_time": "2022-09-30T02:18:07.793402",
     "status": "completed"
    },
    "tags": []
   },
   "outputs": [],
   "source": [
    "df_train[['RoomService','FoodCourt','ShoppingMall','Spa','VRDeck']] = df_train[['RoomService','FoodCourt','ShoppingMall','Spa','VRDeck']].fillna(0)\n",
    "df_test[['RoomService','FoodCourt','ShoppingMall','Spa','VRDeck']] = df_test[['RoomService','FoodCourt','ShoppingMall','Spa','VRDeck']].fillna(0)\n",
    "\n",
    "df_train['Age'] =df_train['Age'].fillna(df_train['Age'].median())\n",
    "df_test['Age'] =df_test['Age'].fillna(df_test['Age'].median())\n",
    "\n",
    "df_train['VIP'] =df_train['VIP'].fillna(False)\n",
    "df_test['VIP'] =df_test['VIP'].fillna(False)\n",
    "\n",
    "df_train['HomePlanet'] =df_train['HomePlanet'].fillna('Mars')\n",
    "df_test['HomePlanet'] =df_test['HomePlanet'].fillna('Mars')\n",
    "\n",
    "df_train['Destination']=df_train['Destination'].fillna(\"PSO J318.5-22\")\n",
    "df_test['Destination']=df_test['Destination'].fillna(\"PSO J318.5-22\")\n",
    "\n",
    "df_train['CryoSleep'] =df_train['CryoSleep'].fillna(False)\n",
    "df_test['CryoSleep'] =df_test['CryoSleep'].fillna(False)\n",
    "\n",
    "df_train['Cabin'] =df_train['Cabin'].fillna('T/0/P')\n",
    "df_test['Cabin'] =df_test['Cabin'].fillna('T/0/P')\n",
    "\n"
   ]
  },
  {
   "cell_type": "markdown",
   "id": "456b05d1",
   "metadata": {
    "papermill": {
     "duration": 0.014074,
     "end_time": "2022-09-30T02:18:07.870682",
     "exception": false,
     "start_time": "2022-09-30T02:18:07.856608",
     "status": "completed"
    },
    "tags": []
   },
   "source": [
    "# 4.Exploration and Visualization 🤠"
   ]
  },
  {
   "cell_type": "code",
   "execution_count": null,
   "id": "e6289293",
   "metadata": {
    "papermill": {
     "duration": 0.819419,
     "end_time": "2022-09-30T02:18:08.704446",
     "exception": false,
     "start_time": "2022-09-30T02:18:07.885027",
     "status": "completed"
    },
    "tags": []
   },
   "outputs": [],
   "source": [
    "plt.figure(figsize=(15,18))\n",
    "sns.heatmap(df_train.corr(), annot=True);"
   ]
  },
  {
   "cell_type": "code",
   "execution_count": null,
   "id": "fef83565",
   "metadata": {
    "papermill": {
     "duration": 0.26663,
     "end_time": "2022-09-30T02:18:08.990549",
     "exception": false,
     "start_time": "2022-09-30T02:18:08.723919",
     "status": "completed"
    },
    "tags": []
   },
   "outputs": [],
   "source": [
    "plt.pie(df_train.Transported.value_counts(), shadow=True, explode=[.1,.1], autopct='%.1f%%')\n",
    "plt.title('Transported ', size=18)\n",
    "plt.legend(['False', 'True'], loc='best', fontsize=12)\n",
    "plt.show()"
   ]
  },
  {
   "cell_type": "code",
   "execution_count": null,
   "id": "5b59b236",
   "metadata": {
    "papermill": {
     "duration": 0.20096,
     "end_time": "2022-09-30T02:18:09.223191",
     "exception": false,
     "start_time": "2022-09-30T02:18:09.022231",
     "status": "completed"
    },
    "tags": []
   },
   "outputs": [],
   "source": [
    "sns.countplot(df_train.Transported);"
   ]
  },
  {
   "cell_type": "code",
   "execution_count": null,
   "id": "04be966d",
   "metadata": {
    "papermill": {
     "duration": 0.246988,
     "end_time": "2022-09-30T02:18:09.489051",
     "exception": false,
     "start_time": "2022-09-30T02:18:09.242063",
     "status": "completed"
    },
    "tags": []
   },
   "outputs": [],
   "source": [
    "sns.countplot(df_train.HomePlanet,hue=df_train.Transported);\n",
    "# Dude, Europa is gone"
   ]
  },
  {
   "cell_type": "code",
   "execution_count": null,
   "id": "49970c69",
   "metadata": {
    "papermill": {
     "duration": 0.225026,
     "end_time": "2022-09-30T02:18:09.733881",
     "exception": false,
     "start_time": "2022-09-30T02:18:09.508855",
     "status": "completed"
    },
    "tags": []
   },
   "outputs": [],
   "source": [
    "sns.countplot(df_train.VIP,hue=df_train.Transported);"
   ]
  },
  {
   "cell_type": "code",
   "execution_count": null,
   "id": "02e84ea9",
   "metadata": {
    "papermill": {
     "duration": 0.233901,
     "end_time": "2022-09-30T02:18:09.987473",
     "exception": false,
     "start_time": "2022-09-30T02:18:09.753572",
     "status": "completed"
    },
    "tags": []
   },
   "outputs": [],
   "source": [
    "sns.countplot(df_train.CryoSleep,hue=df_train.Transported);\n"
   ]
  },
  {
   "cell_type": "markdown",
   "id": "86a4216d",
   "metadata": {
    "papermill": {
     "duration": 0.019804,
     "end_time": "2022-09-30T02:18:10.028058",
     "exception": false,
     "start_time": "2022-09-30T02:18:10.008254",
     "status": "completed"
    },
    "tags": []
   },
   "source": [
    "**The people in CryoSleep are majorly Transported**\n",
    "\n",
    "\n",
    " Do not sleep during travel alright ☠"
   ]
  },
  {
   "cell_type": "code",
   "execution_count": null,
   "id": "0c8f13a2",
   "metadata": {
    "papermill": {
     "duration": 0.255612,
     "end_time": "2022-09-30T02:18:10.303853",
     "exception": false,
     "start_time": "2022-09-30T02:18:10.048241",
     "status": "completed"
    },
    "tags": []
   },
   "outputs": [],
   "source": [
    "sns.countplot(df_train.Destination,hue=df_train.Transported)\n",
    "plt.xticks(rotation=90);"
   ]
  },
  {
   "cell_type": "code",
   "execution_count": null,
   "id": "52873d2c",
   "metadata": {
    "papermill": {
     "duration": 0.217415,
     "end_time": "2022-09-30T02:18:10.542632",
     "exception": false,
     "start_time": "2022-09-30T02:18:10.325217",
     "status": "completed"
    },
    "tags": []
   },
   "outputs": [],
   "source": [
    "sns.boxplot(y=df_train.Age,x=df_train.Transported);\n",
    "#Age is not affecting much. But I have a plan XD"
   ]
  },
  {
   "cell_type": "markdown",
   "id": "17030534",
   "metadata": {
    "papermill": {
     "duration": 0.020971,
     "end_time": "2022-09-30T02:18:10.585005",
     "exception": false,
     "start_time": "2022-09-30T02:18:10.564034",
     "status": "completed"
    },
    "tags": []
   },
   "source": [
    "### 4.B Splitting Cabin Column ⚔"
   ]
  },
  {
   "cell_type": "code",
   "execution_count": null,
   "id": "a1b7c389",
   "metadata": {
    "papermill": {
     "duration": 0.055502,
     "end_time": "2022-09-30T02:18:10.661719",
     "exception": false,
     "start_time": "2022-09-30T02:18:10.606217",
     "status": "completed"
    },
    "tags": []
   },
   "outputs": [],
   "source": [
    "# Cabin - The cabin number where the passenger is staying. Takes the form deck/num/side, where side can be either P for Port or S for Starboard.\n",
    "df_train[['Deck','Num','Side']] = df_train.Cabin.str.split('/',expand=True)\n",
    "df_test[['Deck','Num','Side']] = df_test.Cabin.str.split('/',expand=True)"
   ]
  },
  {
   "cell_type": "markdown",
   "id": "74cb82a8",
   "metadata": {
    "papermill": {
     "duration": 0.021168,
     "end_time": "2022-09-30T02:18:10.704669",
     "exception": false,
     "start_time": "2022-09-30T02:18:10.683501",
     "status": "completed"
    },
    "tags": []
   },
   "source": [
    "**Let's look into them**"
   ]
  },
  {
   "cell_type": "code",
   "execution_count": null,
   "id": "8d785ba8",
   "metadata": {
    "papermill": {
     "duration": 0.303464,
     "end_time": "2022-09-30T02:18:11.029595",
     "exception": false,
     "start_time": "2022-09-30T02:18:10.726131",
     "status": "completed"
    },
    "tags": []
   },
   "outputs": [],
   "source": [
    "sns.countplot(df_train.Deck,hue=df_train.Transported);"
   ]
  },
  {
   "cell_type": "code",
   "execution_count": null,
   "id": "0b664a9f",
   "metadata": {
    "papermill": {
     "duration": 43.011586,
     "end_time": "2022-09-30T02:18:54.063504",
     "exception": false,
     "start_time": "2022-09-30T02:18:11.051918",
     "status": "completed"
    },
    "tags": []
   },
   "outputs": [],
   "source": [
    "plt.figure(figsize=(10,5))\n",
    "sns.histplot(data=df_train, x='Num', hue='Transported',bins=14);"
   ]
  },
  {
   "cell_type": "code",
   "execution_count": null,
   "id": "50b128bc",
   "metadata": {
    "papermill": {
     "duration": 0.185674,
     "end_time": "2022-09-30T02:18:54.272640",
     "exception": false,
     "start_time": "2022-09-30T02:18:54.086966",
     "status": "completed"
    },
    "tags": []
   },
   "outputs": [],
   "source": [
    "sns.countplot(df_train.Side,hue=df_train.Transported);"
   ]
  },
  {
   "cell_type": "code",
   "execution_count": null,
   "id": "ba9c7cb4",
   "metadata": {
    "papermill": {
     "duration": 0.200304,
     "end_time": "2022-09-30T02:18:54.504662",
     "exception": false,
     "start_time": "2022-09-30T02:18:54.304358",
     "status": "completed"
    },
    "tags": []
   },
   "outputs": [],
   "source": [
    "sns.countplot(df_test.Side);"
   ]
  },
  {
   "cell_type": "markdown",
   "id": "2ad067c3",
   "metadata": {
    "papermill": {
     "duration": 0.022567,
     "end_time": "2022-09-30T02:18:54.550648",
     "exception": false,
     "start_time": "2022-09-30T02:18:54.528081",
     "status": "completed"
    },
    "tags": []
   },
   "source": [
    "# 5.Feature Engineering 🥱"
   ]
  },
  {
   "cell_type": "code",
   "execution_count": null,
   "id": "2cb86690",
   "metadata": {
    "papermill": {
     "duration": 0.037695,
     "end_time": "2022-09-30T02:18:54.611263",
     "exception": false,
     "start_time": "2022-09-30T02:18:54.573568",
     "status": "completed"
    },
    "tags": []
   },
   "outputs": [],
   "source": [
    "df_train['total_spent']= df_train['RoomService']+ df_train['FoodCourt']+ df_train['ShoppingMall']+ df_train['Spa']+ df_train['VRDeck']\n",
    "df_test['total_spent']=df_test['RoomService']+df_test['FoodCourt']+df_test['ShoppingMall']+df_test['Spa']+df_test['VRDeck']"
   ]
  },
  {
   "cell_type": "code",
   "execution_count": null,
   "id": "964c54e2",
   "metadata": {
    "papermill": {
     "duration": 0.048383,
     "end_time": "2022-09-30T02:18:54.683222",
     "exception": false,
     "start_time": "2022-09-30T02:18:54.634839",
     "status": "completed"
    },
    "tags": []
   },
   "outputs": [],
   "source": [
    "df_train['AgeGroup'] = 0\n",
    "for i in range(6):\n",
    "    df_train.loc[(df_train.Age >= 10*i) & (df_train.Age < 10*(i + 1)), 'AgeGroup'] = i\n",
    "# Same for test data\n",
    "df_test['AgeGroup'] = 0\n",
    "for i in range(6):\n",
    "    df_test.loc[(df_test.Age >= 10*i) & (df_test.Age < 10*(i + 1)), 'AgeGroup'] = i"
   ]
  },
  {
   "cell_type": "code",
   "execution_count": null,
   "id": "e031be77",
   "metadata": {
    "papermill": {
     "duration": 0.301714,
     "end_time": "2022-09-30T02:18:55.008216",
     "exception": false,
     "start_time": "2022-09-30T02:18:54.706502",
     "status": "completed"
    },
    "tags": []
   },
   "outputs": [],
   "source": [
    "sns.countplot(y=df_train['AgeGroup'],hue=df_train['Transported']);"
   ]
  },
  {
   "cell_type": "markdown",
   "id": "56fd7492",
   "metadata": {
    "papermill": {
     "duration": 0.023046,
     "end_time": "2022-09-30T02:18:55.055062",
     "exception": false,
     "start_time": "2022-09-30T02:18:55.032016",
     "status": "completed"
    },
    "tags": []
   },
   "source": [
    "# 6. Pre processing for Modeling 🤖"
   ]
  },
  {
   "cell_type": "markdown",
   "id": "e308d595",
   "metadata": {
    "papermill": {
     "duration": 0.023323,
     "end_time": "2022-09-30T02:18:55.101972",
     "exception": false,
     "start_time": "2022-09-30T02:18:55.078649",
     "status": "completed"
    },
    "tags": []
   },
   "source": [
    "### 6.A Encoding"
   ]
  },
  {
   "cell_type": "code",
   "execution_count": null,
   "id": "fdcb4427",
   "metadata": {
    "papermill": {
     "duration": 0.11379,
     "end_time": "2022-09-30T02:18:55.239315",
     "exception": false,
     "start_time": "2022-09-30T02:18:55.125525",
     "status": "completed"
    },
    "tags": []
   },
   "outputs": [],
   "source": [
    "from sklearn.preprocessing import LabelEncoder\n",
    "\n",
    "categorical_cols= ['HomePlanet','CryoSleep','Destination','VIP','Deck','Side','Num']\n",
    "for i in categorical_cols:\n",
    "    print(i)\n",
    "    le=LabelEncoder()\n",
    "    arr=np.concatenate((df_train[i], df_test[i])).astype(str)\n",
    "    le.fit(arr)\n",
    "    df_train[i]=le.transform(df_train[i].astype(str))\n",
    "    df_test[i]=le.transform(df_test[i].astype(str))"
   ]
  },
  {
   "cell_type": "code",
   "execution_count": null,
   "id": "815e0e76",
   "metadata": {
    "papermill": {
     "duration": 0.051466,
     "end_time": "2022-09-30T02:18:55.315266",
     "exception": false,
     "start_time": "2022-09-30T02:18:55.263800",
     "status": "completed"
    },
    "tags": []
   },
   "outputs": [],
   "source": [
    "df_train.head()"
   ]
  },
  {
   "cell_type": "markdown",
   "id": "e4431830",
   "metadata": {
    "papermill": {
     "duration": 0.024892,
     "end_time": "2022-09-30T02:18:55.365782",
     "exception": false,
     "start_time": "2022-09-30T02:18:55.340890",
     "status": "completed"
    },
    "tags": []
   },
   "source": [
    "### 6.B Dropping Columns"
   ]
  },
  {
   "cell_type": "code",
   "execution_count": null,
   "id": "aee708bc",
   "metadata": {
    "papermill": {
     "duration": 0.040466,
     "end_time": "2022-09-30T02:18:55.430861",
     "exception": false,
     "start_time": "2022-09-30T02:18:55.390395",
     "status": "completed"
    },
    "tags": []
   },
   "outputs": [],
   "source": [
    "df_train= df_train.drop(['Name','Cabin'],axis=1)\n",
    "df_test= df_test.drop(['Name','Cabin'],axis=1)"
   ]
  },
  {
   "cell_type": "code",
   "execution_count": null,
   "id": "a53ea8a2",
   "metadata": {
    "papermill": {
     "duration": 1.551821,
     "end_time": "2022-09-30T02:18:57.008397",
     "exception": false,
     "start_time": "2022-09-30T02:18:55.456576",
     "status": "completed"
    },
    "tags": []
   },
   "outputs": [],
   "source": [
    "plt.figure(figsize=(30,10))\n",
    "sns.heatmap(df_train.corr(), annot=True);"
   ]
  },
  {
   "cell_type": "code",
   "execution_count": null,
   "id": "6c412e1c",
   "metadata": {
    "papermill": {
     "duration": 0.050721,
     "end_time": "2022-09-30T02:18:57.096076",
     "exception": false,
     "start_time": "2022-09-30T02:18:57.045355",
     "status": "completed"
    },
    "tags": []
   },
   "outputs": [],
   "source": [
    "df_train['Transported']=df_train['Transported'].replace({True:1,False:0})"
   ]
  },
  {
   "cell_type": "code",
   "execution_count": null,
   "id": "4199fd2b",
   "metadata": {
    "papermill": {
     "duration": 0.047711,
     "end_time": "2022-09-30T02:18:57.180735",
     "exception": false,
     "start_time": "2022-09-30T02:18:57.133024",
     "status": "completed"
    },
    "tags": []
   },
   "outputs": [],
   "source": [
    "X=df_train.drop('Transported',axis=1)\n",
    "y = df_train['Transported']"
   ]
  },
  {
   "cell_type": "code",
   "execution_count": null,
   "id": "20f4f764",
   "metadata": {
    "papermill": {
     "duration": 0.048304,
     "end_time": "2022-09-30T02:18:57.264120",
     "exception": false,
     "start_time": "2022-09-30T02:18:57.215816",
     "status": "completed"
    },
    "tags": []
   },
   "outputs": [],
   "source": [
    "X.columns"
   ]
  },
  {
   "cell_type": "markdown",
   "id": "84ea8d6a",
   "metadata": {
    "papermill": {
     "duration": 0.03676,
     "end_time": "2022-09-30T02:18:57.337112",
     "exception": false,
     "start_time": "2022-09-30T02:18:57.300352",
     "status": "completed"
    },
    "tags": []
   },
   "source": [
    "### 6.C Splitting Columns"
   ]
  },
  {
   "cell_type": "code",
   "execution_count": null,
   "id": "f2831722",
   "metadata": {
    "papermill": {
     "duration": 0.050814,
     "end_time": "2022-09-30T02:18:57.424670",
     "exception": false,
     "start_time": "2022-09-30T02:18:57.373856",
     "status": "completed"
    },
    "tags": []
   },
   "outputs": [],
   "source": [
    "X_train, X_val, y_train, y_val = train_test_split(X, y, test_size=0.25, random_state=0)"
   ]
  },
  {
   "cell_type": "markdown",
   "id": "3b7a5b55",
   "metadata": {
    "papermill": {
     "duration": 0.039343,
     "end_time": "2022-09-30T02:18:57.500303",
     "exception": false,
     "start_time": "2022-09-30T02:18:57.460960",
     "status": "completed"
    },
    "tags": []
   },
   "source": [
    "### Modeling - Finally 😎"
   ]
  },
  {
   "cell_type": "markdown",
   "id": "33e6d899",
   "metadata": {
    "papermill": {
     "duration": 0.035944,
     "end_time": "2022-09-30T02:18:57.573297",
     "exception": false,
     "start_time": "2022-09-30T02:18:57.537353",
     "status": "completed"
    },
    "tags": []
   },
   "source": [
    "**Cat Boost 😾**"
   ]
  },
  {
   "cell_type": "code",
   "execution_count": null,
   "id": "34ab7321",
   "metadata": {
    "papermill": {
     "duration": 0.050869,
     "end_time": "2022-09-30T02:18:57.660804",
     "exception": false,
     "start_time": "2022-09-30T02:18:57.609935",
     "status": "completed"
    },
    "tags": []
   },
   "outputs": [],
   "source": [
    "\n",
    "from catboost import CatBoostClassifier\n",
    "model=CatBoostClassifier(iterations=1500,\n",
    "                         eval_metric='Accuracy',\n",
    "                        verbose=0)"
   ]
  },
  {
   "cell_type": "code",
   "execution_count": null,
   "id": "6108c5a2",
   "metadata": {
    "papermill": {
     "duration": 6.597558,
     "end_time": "2022-09-30T02:19:04.294403",
     "exception": false,
     "start_time": "2022-09-30T02:18:57.696845",
     "status": "completed"
    },
    "tags": []
   },
   "outputs": [],
   "source": [
    "model.fit(X_train,y_train)"
   ]
  },
  {
   "cell_type": "code",
   "execution_count": null,
   "id": "c7051ef1",
   "metadata": {
    "papermill": {
     "duration": 0.070899,
     "end_time": "2022-09-30T02:19:04.404146",
     "exception": false,
     "start_time": "2022-09-30T02:19:04.333247",
     "status": "completed"
    },
    "tags": []
   },
   "outputs": [],
   "source": [
    "pred_y=model.predict(X_val)\n",
    "\n",
    "pred=model.predict(X_train)\n",
    "    \n",
    "print(accuracy_score(y_train.values,pred))\n",
    "print(accuracy_score(y_val.values,pred_y))"
   ]
  },
  {
   "cell_type": "code",
   "execution_count": null,
   "id": "0b43d57c",
   "metadata": {
    "papermill": {
     "duration": 99.801093,
     "end_time": "2022-09-30T02:20:44.242526",
     "exception": false,
     "start_time": "2022-09-30T02:19:04.441433",
     "status": "completed"
    },
    "tags": []
   },
   "outputs": [],
   "source": [
    "from sklearn.model_selection import GridSearchCV\n",
    "gcv=GridSearchCV(CatBoostClassifier(),param_grid={'iterations': range(200,2000,200), 'eval_metric': ['Accuracy'],'verbose':[0]},cv=3)\n",
    "gcv.fit(X_train,y_train)\n",
    "pred_y=gcv.predict(X_val)\n",
    "\n",
    "pred=gcv.predict(X_train)\n",
    "    \n",
    "print(accuracy_score(y_train.values,pred))\n",
    "print(accuracy_score(y_val.values,pred_y))"
   ]
  },
  {
   "cell_type": "markdown",
   "id": "071426ac",
   "metadata": {
    "papermill": {
     "duration": 0.035565,
     "end_time": "2022-09-30T02:20:44.313641",
     "exception": false,
     "start_time": "2022-09-30T02:20:44.278076",
     "status": "completed"
    },
    "tags": []
   },
   "source": [
    "**Gradient Boosting**"
   ]
  },
  {
   "cell_type": "code",
   "execution_count": null,
   "id": "0b58d955",
   "metadata": {
    "papermill": {
     "duration": 2.968891,
     "end_time": "2022-09-30T02:20:47.318309",
     "exception": false,
     "start_time": "2022-09-30T02:20:44.349418",
     "status": "completed"
    },
    "tags": []
   },
   "outputs": [],
   "source": [
    "from sklearn.ensemble import GradientBoostingClassifier\n",
    "gb=GradientBoostingClassifier(random_state=1,n_estimators=250,learning_rate=0.15,max_depth=3)\n",
    "gb.fit(X_train,y_train)"
   ]
  },
  {
   "cell_type": "code",
   "execution_count": null,
   "id": "ecf0d264",
   "metadata": {
    "papermill": {
     "duration": 0.081714,
     "end_time": "2022-09-30T02:20:47.438443",
     "exception": false,
     "start_time": "2022-09-30T02:20:47.356729",
     "status": "completed"
    },
    "tags": []
   },
   "outputs": [],
   "source": [
    "pred_y=gb.predict(X_val)\n",
    "pred=gb.predict(X_train)\n",
    "    \n",
    "print(accuracy_score(y_train.values,pred))\n",
    "print(accuracy_score(y_val.values,pred_y))"
   ]
  },
  {
   "cell_type": "markdown",
   "id": "089599b4",
   "metadata": {
    "papermill": {
     "duration": 0.035058,
     "end_time": "2022-09-30T02:20:47.509347",
     "exception": false,
     "start_time": "2022-09-30T02:20:47.474289",
     "status": "completed"
    },
    "tags": []
   },
   "source": [
    "### Cat wins!!! 😼"
   ]
  },
  {
   "cell_type": "code",
   "execution_count": null,
   "id": "63669d8c",
   "metadata": {
    "papermill": {
     "duration": 115.870959,
     "end_time": "2022-09-30T02:22:43.416457",
     "exception": false,
     "start_time": "2022-09-30T02:20:47.545498",
     "status": "completed"
    },
    "tags": []
   },
   "outputs": [],
   "source": [
    "# lets re fit the model on the entire data\n",
    "gcv.fit(X,y)"
   ]
  },
  {
   "cell_type": "code",
   "execution_count": null,
   "id": "25c91132",
   "metadata": {
    "papermill": {
     "duration": 0.045763,
     "end_time": "2022-09-30T02:22:43.499110",
     "exception": false,
     "start_time": "2022-09-30T02:22:43.453347",
     "status": "completed"
    },
    "tags": []
   },
   "outputs": [],
   "source": [
    "#for i,z in zip(X.columns,gcv.get_feature_importance()):\n",
    "    #print('importance of',i,'is',z)\n"
   ]
  },
  {
   "cell_type": "markdown",
   "id": "62b8dfe9",
   "metadata": {
    "papermill": {
     "duration": 0.037584,
     "end_time": "2022-09-30T02:22:43.574639",
     "exception": false,
     "start_time": "2022-09-30T02:22:43.537055",
     "status": "completed"
    },
    "tags": []
   },
   "source": [
    "# 7. Prediction and Submission 😎"
   ]
  },
  {
   "cell_type": "code",
   "execution_count": null,
   "id": "5e3f081d",
   "metadata": {
    "papermill": {
     "duration": 0.060763,
     "end_time": "2022-09-30T02:22:43.672245",
     "exception": false,
     "start_time": "2022-09-30T02:22:43.611482",
     "status": "completed"
    },
    "tags": []
   },
   "outputs": [],
   "source": [
    "y_pred = gcv.predict(df_test)\n",
    "\n",
    "sub=pd.DataFrame({'Transported':y_pred.astype(bool)},index=df_test.index)\n",
    "\n",
    "sub.head()"
   ]
  },
  {
   "cell_type": "code",
   "execution_count": null,
   "id": "00453984",
   "metadata": {
    "papermill": {
     "duration": 0.052388,
     "end_time": "2022-09-30T02:22:43.763423",
     "exception": false,
     "start_time": "2022-09-30T02:22:43.711035",
     "status": "completed"
    },
    "tags": []
   },
   "outputs": [],
   "source": [
    "sub.to_csv('submission')"
   ]
  },
  {
   "cell_type": "markdown",
   "id": "ef2626dd",
   "metadata": {
    "papermill": {
     "duration": 0.037505,
     "end_time": "2022-09-30T02:22:43.841336",
     "exception": false,
     "start_time": "2022-09-30T02:22:43.803831",
     "status": "completed"
    },
    "tags": []
   },
   "source": [
    "### <center>Thanks for reading:)</center>\n",
    "### <center>Upvote! and Leave some suggestions</center>\n"
   ]
  },
  {
   "cell_type": "code",
   "execution_count": null,
   "id": "eb00248a",
   "metadata": {
    "papermill": {
     "duration": 0.048778,
     "end_time": "2022-09-30T02:22:43.928714",
     "exception": false,
     "start_time": "2022-09-30T02:22:43.879936",
     "status": "completed"
    },
    "tags": []
   },
   "outputs": [],
   "source": [
    "140/24458100"
   ]
  },
  {
   "cell_type": "code",
   "execution_count": null,
   "id": "e0d052a9",
   "metadata": {
    "papermill": {
     "duration": 0.037473,
     "end_time": "2022-09-30T02:22:44.003377",
     "exception": false,
     "start_time": "2022-09-30T02:22:43.965904",
     "status": "completed"
    },
    "tags": []
   },
   "outputs": [],
   "source": []
  }
 ],
 "metadata": {
  "kernelspec": {
   "display_name": "Python [conda env:CS4320]",
   "language": "python",
   "name": "conda-env-CS4320-py"
  },
  "language_info": {
   "codemirror_mode": {
    "name": "ipython",
    "version": 3
   },
   "file_extension": ".py",
   "mimetype": "text/x-python",
   "name": "python",
   "nbconvert_exporter": "python",
   "pygments_lexer": "ipython3",
   "version": "3.11.13"
  },
  "papermill": {
   "default_parameters": {},
   "duration": 289.117651,
   "end_time": "2022-09-30T02:22:45.065277",
   "environment_variables": {},
   "exception": null,
   "input_path": "__notebook__.ipynb",
   "output_path": "__notebook__.ipynb",
   "parameters": {},
   "start_time": "2022-09-30T02:17:55.947626",
   "version": "2.3.4"
  }
 },
 "nbformat": 4,
 "nbformat_minor": 5
}
