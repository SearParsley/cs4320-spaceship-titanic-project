{
 "cells": [
  {
   "cell_type": "markdown",
   "id": "881fc3b5",
   "metadata": {
    "papermill": {
     "duration": 0.015147,
     "end_time": "2022-09-30T02:18:05.258501",
     "exception": false,
     "start_time": "2022-09-30T02:18:05.243354",
     "status": "completed"
    },
    "tags": []
   },
   "source": [
    "## Spaceship Titanic Preprocessing"
   ]
  },
  {
   "cell_type": "markdown",
   "id": "98b17e2a",
   "metadata": {
    "papermill": {
     "duration": 0.013077,
     "end_time": "2022-09-30T02:18:05.285134",
     "exception": false,
     "start_time": "2022-09-30T02:18:05.272057",
     "status": "completed"
    },
    "tags": []
   },
   "source": [
    "**Description:**\n",
    "\n",
    "Welcome to the year 2912, where your data science skills are needed to solve a cosmic mystery. We've received a transmission from four lightyears away and things aren't looking good.\n",
    "\n",
    "The Spaceship Titanic was an interstellar passenger liner launched a month ago. With almost 13,000 passengers on board, the vessel set out on its maiden voyage transporting emigrants from our solar system to three newly habitable exoplanets orbiting nearby stars.\n",
    "\n",
    "While rounding Alpha Centauri en route to its first destination—the torrid 55 Cancri E—the unwary Spaceship Titanic collided with a spacetime anomaly hidden within a dust cloud. Sadly, it met a similar fate as its namesake from 1000 years before. Though the ship stayed intact, almost half of the passengers were transported to an alternate dimension!\n",
    "\n",
    "To help rescue crews and retrieve the lost passengers, you are challenged to predict which passengers were transported by the anomaly using records recovered from the spaceship’s damaged computer system.\n",
    "\n",
    "Help save them and change history!\n",
    "___"
   ]
  },
  {
   "cell_type": "markdown",
   "id": "8092b2e1",
   "metadata": {
    "papermill": {
     "duration": 0.01324,
     "end_time": "2022-09-30T02:18:05.313426",
     "exception": false,
     "start_time": "2022-09-30T02:18:05.300186",
     "status": "completed"
    },
    "tags": []
   },
   "source": [
    "# 1.Importing Libraries"
   ]
  },
  {
   "cell_type": "code",
   "execution_count": 1,
   "id": "4fcea84b",
   "metadata": {
    "papermill": {
     "duration": 1.807358,
     "end_time": "2022-09-30T02:18:07.134313",
     "exception": false,
     "start_time": "2022-09-30T02:18:05.326955",
     "status": "completed"
    },
    "tags": []
   },
   "outputs": [],
   "source": [
    "import numpy as np\n",
    "import pandas as pd\n",
    "import matplotlib.pyplot as plt\n",
    "%matplotlib inline\n",
    "import seaborn as sns\n",
    "sns.set_theme(style='darkgrid', font_scale=2)\n",
    "import warnings\n",
    "warnings.filterwarnings('ignore')\n",
    "from sklearn.preprocessing import OneHotEncoder, OrdinalEncoder, RobustScaler, PowerTransformer\n",
    "from sklearn.compose import ColumnTransformer, make_column_transformer\n",
    "from sklearn.pipeline import Pipeline, make_pipeline\n",
    "from sklearn.dummy import DummyClassifier\n",
    "from sklearn.dummy import DummyClassifier\n",
    "from sklearn.svm import SVC\n",
    "from sklearn.tree import DecisionTreeClassifier\n",
    "from sklearn.neighbors import KNeighborsClassifier\n",
    "from sklearn.model_selection import cross_validate, train_test_split\n",
    "from sklearn.metrics import accuracy_score"
   ]
  },
  {
   "cell_type": "code",
   "execution_count": 2,
   "id": "86649546-50c4-4e2a-92f0-2f8fdf59722d",
   "metadata": {},
   "outputs": [],
   "source": [
    "COMPARING_MODELS = False\n",
    "DEBUG = False\n",
    "VISUALIZING = False"
   ]
  },
  {
   "cell_type": "markdown",
   "id": "d30f1414",
   "metadata": {
    "papermill": {
     "duration": 0.013778,
     "end_time": "2022-09-30T02:18:07.163197",
     "exception": false,
     "start_time": "2022-09-30T02:18:07.149419",
     "status": "completed"
    },
    "tags": []
   },
   "source": [
    "# 2. Loading Data"
   ]
  },
  {
   "cell_type": "code",
   "execution_count": 3,
   "id": "3cffd802",
   "metadata": {
    "papermill": {
     "duration": 0.141978,
     "end_time": "2022-09-30T02:18:07.319563",
     "exception": false,
     "start_time": "2022-09-30T02:18:07.177585",
     "status": "completed"
    },
    "tags": []
   },
   "outputs": [],
   "source": [
    "df_train = pd.read_csv('data/train.csv')\n",
    "df_test = pd.read_csv('data/test.csv')\n",
    "\n",
    "df_train.head() if VISUALIZING else None"
   ]
  },
  {
   "cell_type": "markdown",
   "id": "86a8ed37",
   "metadata": {
    "papermill": {
     "duration": 0.013987,
     "end_time": "2022-09-30T02:18:07.348938",
     "exception": false,
     "start_time": "2022-09-30T02:18:07.334951",
     "status": "completed"
    },
    "tags": []
   },
   "source": [
    "**Columns Description**\n",
    "* PassengerId - A unique Id for each passenger. Each Id takes the form gggg_pp where gggg indicates a group the passenger is travelling with and pp is their number within the group. People in a group are often family members, but not always.\n",
    "* HomePlanet - The planet the passenger departed from, typically their planet of permanent residence.\n",
    "* CryoSleep - Indicates whether the passenger elected to be put into suspended animation for the duration of the voyage. Passengers in cryosleep are confined to their cabins.\n",
    "* Cabin - The cabin number where the passenger is staying. Takes the form deck/num/side, where side can be either P for Port or S for Starboard.\n",
    "* Destination - The planet the passenger will be debarking to.\n",
    "* Age - The age of the passenger.\n",
    "* VIP - Whether the passenger has paid for special VIP service during the voyage.\n",
    "* RoomService, FoodCourt, ShoppingMall, Spa, VRDeck - Amount the passenger has billed at each of the Spaceship Titanic's many luxury amenities.\n",
    "* Name - The first and last names of the passenger.\n",
    "* Transported - Whether the passenger was transported to another dimension. This is the target, the column you are trying to predict."
   ]
  },
  {
   "cell_type": "markdown",
   "id": "b5669dfc",
   "metadata": {
    "papermill": {
     "duration": 0.014125,
     "end_time": "2022-09-30T02:18:07.377279",
     "exception": false,
     "start_time": "2022-09-30T02:18:07.363154",
     "status": "completed"
    },
    "tags": []
   },
   "source": [
    "# 3. Exploring/Viewing Data"
   ]
  },
  {
   "cell_type": "code",
   "execution_count": 4,
   "id": "266ab22f",
   "metadata": {
    "papermill": {
     "duration": 0.02941,
     "end_time": "2022-09-30T02:18:07.421126",
     "exception": false,
     "start_time": "2022-09-30T02:18:07.391716",
     "status": "completed"
    },
    "tags": []
   },
   "outputs": [],
   "source": [
    "if VISUALIZING:\n",
    "    r1,c1 = df_train.shape\n",
    "    print('The training data has {} rows and {} columns'.format(r1,c1))\n",
    "    r2,c2 = df_test.shape\n",
    "    print('The validation data has {} rows and {} columns'.format(r2,c2))"
   ]
  },
  {
   "cell_type": "code",
   "execution_count": 5,
   "id": "94e5967b",
   "metadata": {
    "papermill": {
     "duration": 0.054381,
     "end_time": "2022-09-30T02:18:07.490655",
     "exception": false,
     "start_time": "2022-09-30T02:18:07.436274",
     "status": "completed"
    },
    "tags": []
   },
   "outputs": [],
   "source": [
    "df_train.info() if VISUALIZING else None"
   ]
  },
  {
   "cell_type": "code",
   "execution_count": 6,
   "id": "98ea4b46",
   "metadata": {
    "papermill": {
     "duration": 0.058164,
     "end_time": "2022-09-30T02:18:07.564201",
     "exception": false,
     "start_time": "2022-09-30T02:18:07.506037",
     "status": "completed"
    },
    "tags": []
   },
   "outputs": [],
   "source": [
    "df_train.describe() if VISUALIZING else None"
   ]
  },
  {
   "cell_type": "code",
   "execution_count": 7,
   "id": "eb012eca",
   "metadata": {
    "papermill": {
     "duration": 0.051292,
     "end_time": "2022-09-30T02:18:07.630511",
     "exception": false,
     "start_time": "2022-09-30T02:18:07.579219",
     "status": "completed"
    },
    "tags": []
   },
   "outputs": [],
   "source": [
    "df_test.describe() if VISUALIZING else None"
   ]
  },
  {
   "cell_type": "markdown",
   "id": "1e825eef",
   "metadata": {
    "papermill": {
     "duration": 0.015551,
     "end_time": "2022-09-30T02:18:07.661440",
     "exception": false,
     "start_time": "2022-09-30T02:18:07.645889",
     "status": "completed"
    },
    "tags": []
   },
   "source": [
    "### 3.B Fixing Missing Values "
   ]
  },
  {
   "cell_type": "code",
   "execution_count": 8,
   "id": "33d952b4",
   "metadata": {
    "papermill": {
     "duration": 0.035985,
     "end_time": "2022-09-30T02:18:07.712563",
     "exception": false,
     "start_time": "2022-09-30T02:18:07.676578",
     "status": "completed"
    },
    "tags": []
   },
   "outputs": [],
   "source": [
    "if VISUALIZING:\n",
    "    print('MISSING VALUES IN TRAINING DATASET:')\n",
    "    print(df_train.isna().sum().nlargest(c1))\n",
    "    print('')\n",
    "    print('MISSING VALUES IN VALIDATION DATASET:')\n",
    "    print(df_test.isna().sum().nlargest(c2))"
   ]
  },
  {
   "cell_type": "code",
   "execution_count": 9,
   "id": "0d1b62d5",
   "metadata": {
    "papermill": {
     "duration": 0.023717,
     "end_time": "2022-09-30T02:18:07.750862",
     "exception": false,
     "start_time": "2022-09-30T02:18:07.727145",
     "status": "completed"
    },
    "tags": []
   },
   "outputs": [],
   "source": [
    "df_train.set_index('PassengerId',inplace=True)\n",
    "df_test.set_index('PassengerId',inplace=True)"
   ]
  },
  {
   "cell_type": "markdown",
   "id": "a341f921",
   "metadata": {
    "papermill": {
     "duration": 0.01394,
     "end_time": "2022-09-30T02:18:07.779101",
     "exception": false,
     "start_time": "2022-09-30T02:18:07.765161",
     "status": "completed"
    },
    "tags": []
   },
   "source": [
    "### 3.C Null Replacement "
   ]
  },
  {
   "cell_type": "code",
   "execution_count": 10,
   "id": "38aa333b",
   "metadata": {
    "papermill": {
     "duration": 0.048567,
     "end_time": "2022-09-30T02:18:07.841969",
     "exception": false,
     "start_time": "2022-09-30T02:18:07.793402",
     "status": "completed"
    },
    "tags": []
   },
   "outputs": [],
   "source": [
    "df_train[['RoomService','FoodCourt','ShoppingMall','Spa','VRDeck']] = df_train[['RoomService','FoodCourt','ShoppingMall','Spa','VRDeck']].fillna(0)\n",
    "df_test[['RoomService','FoodCourt','ShoppingMall','Spa','VRDeck']] = df_test[['RoomService','FoodCourt','ShoppingMall','Spa','VRDeck']].fillna(0)\n",
    "\n",
    "df_train['Age'] =df_train['Age'].fillna(df_train['Age'].median())\n",
    "df_test['Age'] =df_test['Age'].fillna(df_test['Age'].median())\n",
    "\n",
    "df_train['VIP'] =df_train['VIP'].fillna(False)\n",
    "df_test['VIP'] =df_test['VIP'].fillna(False)\n",
    "\n",
    "df_train['HomePlanet'] =df_train['HomePlanet'].fillna('Mars')\n",
    "df_test['HomePlanet'] =df_test['HomePlanet'].fillna('Mars')\n",
    "\n",
    "df_train['Destination']=df_train['Destination'].fillna(\"PSO J318.5-22\")\n",
    "df_test['Destination']=df_test['Destination'].fillna(\"PSO J318.5-22\")\n",
    "\n",
    "df_train['CryoSleep'] =df_train['CryoSleep'].fillna(False)\n",
    "df_test['CryoSleep'] =df_test['CryoSleep'].fillna(False)\n",
    "\n",
    "df_train['Cabin'] =df_train['Cabin'].fillna('T/0/P')\n",
    "df_test['Cabin'] =df_test['Cabin'].fillna('T/0/P')"
   ]
  },
  {
   "cell_type": "markdown",
   "id": "456b05d1",
   "metadata": {
    "papermill": {
     "duration": 0.014074,
     "end_time": "2022-09-30T02:18:07.870682",
     "exception": false,
     "start_time": "2022-09-30T02:18:07.856608",
     "status": "completed"
    },
    "tags": []
   },
   "source": [
    "# 4.Exploration and Visualization "
   ]
  },
  {
   "cell_type": "code",
   "execution_count": 11,
   "id": "e6289293",
   "metadata": {
    "papermill": {
     "duration": 0.819419,
     "end_time": "2022-09-30T02:18:08.704446",
     "exception": false,
     "start_time": "2022-09-30T02:18:07.885027",
     "status": "completed"
    },
    "tags": []
   },
   "outputs": [],
   "source": [
    "plt.figure(figsize=(15,18)) if VISUALIZING else None\n",
    "sns.heatmap(df_train.select_dtypes(\"number\").corr(), annot=True) if VISUALIZING else None"
   ]
  },
  {
   "cell_type": "code",
   "execution_count": 12,
   "id": "fef83565",
   "metadata": {
    "papermill": {
     "duration": 0.26663,
     "end_time": "2022-09-30T02:18:08.990549",
     "exception": false,
     "start_time": "2022-09-30T02:18:08.723919",
     "status": "completed"
    },
    "tags": []
   },
   "outputs": [],
   "source": [
    "plt.pie(df_train.Transported.value_counts(), shadow=True, explode=[.1,.1], autopct='%.1f%%') if VISUALIZING else None\n",
    "plt.title('Transported ', size=18) if VISUALIZING else None\n",
    "plt.legend(['False', 'True'], loc='best', fontsize=12) if VISUALIZING else None\n",
    "plt.show() if VISUALIZING else None"
   ]
  },
  {
   "cell_type": "code",
   "execution_count": 13,
   "id": "5b59b236",
   "metadata": {
    "papermill": {
     "duration": 0.20096,
     "end_time": "2022-09-30T02:18:09.223191",
     "exception": false,
     "start_time": "2022-09-30T02:18:09.022231",
     "status": "completed"
    },
    "tags": []
   },
   "outputs": [],
   "source": [
    "sns.countplot(df_train, x=\"Transported\") if VISUALIZING else None"
   ]
  },
  {
   "cell_type": "code",
   "execution_count": 14,
   "id": "04be966d",
   "metadata": {
    "papermill": {
     "duration": 0.246988,
     "end_time": "2022-09-30T02:18:09.489051",
     "exception": false,
     "start_time": "2022-09-30T02:18:09.242063",
     "status": "completed"
    },
    "tags": []
   },
   "outputs": [],
   "source": [
    "sns.countplot(df_train, x=\"HomePlanet\", hue=\"Transported\") if VISUALIZING else None"
   ]
  },
  {
   "cell_type": "code",
   "execution_count": 15,
   "id": "49970c69",
   "metadata": {
    "papermill": {
     "duration": 0.225026,
     "end_time": "2022-09-30T02:18:09.733881",
     "exception": false,
     "start_time": "2022-09-30T02:18:09.508855",
     "status": "completed"
    },
    "tags": []
   },
   "outputs": [],
   "source": [
    "sns.countplot(df_train, x=\"VIP\", hue=\"Transported\") if VISUALIZING else None"
   ]
  },
  {
   "cell_type": "code",
   "execution_count": 16,
   "id": "02e84ea9",
   "metadata": {
    "papermill": {
     "duration": 0.233901,
     "end_time": "2022-09-30T02:18:09.987473",
     "exception": false,
     "start_time": "2022-09-30T02:18:09.753572",
     "status": "completed"
    },
    "tags": []
   },
   "outputs": [],
   "source": [
    "sns.countplot(df_train, x=\"CryoSleep\", hue=\"Transported\") if VISUALIZING else None"
   ]
  },
  {
   "cell_type": "code",
   "execution_count": 17,
   "id": "0c8f13a2",
   "metadata": {
    "papermill": {
     "duration": 0.255612,
     "end_time": "2022-09-30T02:18:10.303853",
     "exception": false,
     "start_time": "2022-09-30T02:18:10.048241",
     "status": "completed"
    },
    "tags": []
   },
   "outputs": [],
   "source": [
    "sns.countplot(df_train, x=\"Destination\", hue=\"Transported\") if VISUALIZING else None\n",
    "plt.xticks(rotation=30) if VISUALIZING else None"
   ]
  },
  {
   "cell_type": "code",
   "execution_count": 18,
   "id": "52873d2c",
   "metadata": {
    "papermill": {
     "duration": 0.217415,
     "end_time": "2022-09-30T02:18:10.542632",
     "exception": false,
     "start_time": "2022-09-30T02:18:10.325217",
     "status": "completed"
    },
    "tags": []
   },
   "outputs": [],
   "source": [
    "sns.boxplot(df_train, y=\"Age\", x=\"Transported\") if VISUALIZING else None # Age will be divided into groups later"
   ]
  },
  {
   "cell_type": "markdown",
   "id": "17030534",
   "metadata": {
    "papermill": {
     "duration": 0.020971,
     "end_time": "2022-09-30T02:18:10.585005",
     "exception": false,
     "start_time": "2022-09-30T02:18:10.564034",
     "status": "completed"
    },
    "tags": []
   },
   "source": [
    "### 4.B Splitting Cabin Column"
   ]
  },
  {
   "cell_type": "code",
   "execution_count": 19,
   "id": "a1b7c389",
   "metadata": {
    "papermill": {
     "duration": 0.055502,
     "end_time": "2022-09-30T02:18:10.661719",
     "exception": false,
     "start_time": "2022-09-30T02:18:10.606217",
     "status": "completed"
    },
    "tags": []
   },
   "outputs": [],
   "source": [
    "# Cabin - The cabin number where the passenger is staying. Takes the form deck/num/side, where side can be either P for Port or S for Starboard.\n",
    "df_train[['Deck', 'Cabin_Num', 'Side']] = df_train.Cabin.str.split('/',expand=True)\n",
    "df_test[['Deck', 'Cabin_Num', 'Side']] = df_test.Cabin.str.split('/',expand=True)\n",
    "\n",
    "df_train['Cabin_Num'] = pd.to_numeric(df_train['Cabin_Num'], downcast='integer')\n",
    "df_test['Cabin_Num'] = pd.to_numeric(df_test['Cabin_Num'], downcast='integer')\n",
    "\n",
    "df_train['Side'] = df_train['Side'].map({'P':0,'S':1})\n",
    "df_test['Side'] = df_test['Side'].map({'P':0,'S':1})"
   ]
  },
  {
   "cell_type": "code",
   "execution_count": 20,
   "id": "8d785ba8",
   "metadata": {
    "papermill": {
     "duration": 0.303464,
     "end_time": "2022-09-30T02:18:11.029595",
     "exception": false,
     "start_time": "2022-09-30T02:18:10.726131",
     "status": "completed"
    },
    "tags": []
   },
   "outputs": [],
   "source": [
    "sns.countplot(df_train, y=\"Deck\", hue=\"Transported\", order=[\"A\", \"B\", \"C\", \"D\", \"E\", \"F\", \"T\"]) if VISUALIZING else None"
   ]
  },
  {
   "cell_type": "code",
   "execution_count": 21,
   "id": "0b664a9f",
   "metadata": {
    "papermill": {
     "duration": 43.011586,
     "end_time": "2022-09-30T02:18:54.063504",
     "exception": false,
     "start_time": "2022-09-30T02:18:11.051918",
     "status": "completed"
    },
    "tags": []
   },
   "outputs": [],
   "source": [
    "plt.figure(figsize=(10,5)) if VISUALIZING else None\n",
    "sns.histplot(df_train, x='Cabin_Num', hue='Transported', bins=14, multiple=\"dodge\", shrink=0.6) if VISUALIZING else None"
   ]
  },
  {
   "cell_type": "code",
   "execution_count": 22,
   "id": "50b128bc",
   "metadata": {
    "papermill": {
     "duration": 0.185674,
     "end_time": "2022-09-30T02:18:54.272640",
     "exception": false,
     "start_time": "2022-09-30T02:18:54.086966",
     "status": "completed"
    },
    "tags": []
   },
   "outputs": [],
   "source": [
    "sns.countplot(df_train, x=\"Side\", hue=\"Transported\") if VISUALIZING else None"
   ]
  },
  {
   "cell_type": "code",
   "execution_count": 23,
   "id": "ba9c7cb4",
   "metadata": {
    "papermill": {
     "duration": 0.200304,
     "end_time": "2022-09-30T02:18:54.504662",
     "exception": false,
     "start_time": "2022-09-30T02:18:54.304358",
     "status": "completed"
    },
    "tags": []
   },
   "outputs": [],
   "source": [
    "sns.countplot(df_test, x=\"Side\") if VISUALIZING else None"
   ]
  },
  {
   "cell_type": "markdown",
   "id": "2ad067c3",
   "metadata": {
    "papermill": {
     "duration": 0.022567,
     "end_time": "2022-09-30T02:18:54.550648",
     "exception": false,
     "start_time": "2022-09-30T02:18:54.528081",
     "status": "completed"
    },
    "tags": []
   },
   "source": [
    "# 5. Feature Engineering"
   ]
  },
  {
   "cell_type": "code",
   "execution_count": 24,
   "id": "2cb86690",
   "metadata": {
    "papermill": {
     "duration": 0.037695,
     "end_time": "2022-09-30T02:18:54.611263",
     "exception": false,
     "start_time": "2022-09-30T02:18:54.573568",
     "status": "completed"
    },
    "tags": []
   },
   "outputs": [],
   "source": [
    "df_train['total_spent'] = df_train['RoomService'] + df_train['FoodCourt'] + df_train['ShoppingMall'] + df_train['Spa'] + df_train['VRDeck']\n",
    "df_test['total_spent'] = df_test['RoomService'] + df_test['FoodCourt'] + df_test['ShoppingMall'] + df_test['Spa'] + df_test['VRDeck']"
   ]
  },
  {
   "cell_type": "code",
   "execution_count": 25,
   "id": "964c54e2",
   "metadata": {
    "papermill": {
     "duration": 0.048383,
     "end_time": "2022-09-30T02:18:54.683222",
     "exception": false,
     "start_time": "2022-09-30T02:18:54.634839",
     "status": "completed"
    },
    "tags": []
   },
   "outputs": [],
   "source": [
    "df_train['AgeGroup'] = 0\n",
    "for i in range(6):\n",
    "    df_train.loc[(df_train.Age >= 10*i) & (df_train.Age < 10*(i + 1)), 'AgeGroup'] = i\n",
    "# Same for test data\n",
    "df_test['AgeGroup'] = 0\n",
    "for i in range(6):\n",
    "    df_test.loc[(df_test.Age >= 10*i) & (df_test.Age < 10*(i + 1)), 'AgeGroup'] = i"
   ]
  },
  {
   "cell_type": "code",
   "execution_count": 26,
   "id": "e031be77",
   "metadata": {
    "papermill": {
     "duration": 0.301714,
     "end_time": "2022-09-30T02:18:55.008216",
     "exception": false,
     "start_time": "2022-09-30T02:18:54.706502",
     "status": "completed"
    },
    "tags": []
   },
   "outputs": [],
   "source": [
    "sns.countplot(y=df_train['AgeGroup'], hue=df_train['Transported']) if VISUALIZING else None"
   ]
  },
  {
   "cell_type": "markdown",
   "id": "da6c2ca5-c47a-43d6-90fd-9821e0929ae6",
   "metadata": {
    "papermill": {
     "duration": 0.024892,
     "end_time": "2022-09-30T02:18:55.365782",
     "exception": false,
     "start_time": "2022-09-30T02:18:55.340890",
     "status": "completed"
    },
    "tags": []
   },
   "source": [
    "### 6.B drop target"
   ]
  },
  {
   "cell_type": "code",
   "execution_count": 27,
   "id": "c2c5929c-f96e-457f-a061-fdf7df491626",
   "metadata": {},
   "outputs": [],
   "source": [
    "df_train['Transported'] = df_train['Transported'].replace({True:1,False:0})"
   ]
  },
  {
   "cell_type": "markdown",
   "id": "56fd7492",
   "metadata": {
    "papermill": {
     "duration": 0.023046,
     "end_time": "2022-09-30T02:18:55.055062",
     "exception": false,
     "start_time": "2022-09-30T02:18:55.032016",
     "status": "completed"
    },
    "tags": []
   },
   "source": [
    "# 6. Pre processing"
   ]
  },
  {
   "cell_type": "code",
   "execution_count": 28,
   "id": "9071b34a-82ef-440f-9886-a26699092d17",
   "metadata": {},
   "outputs": [],
   "source": [
    "if DEBUG:\n",
    "    df_train, df_test = train_test_split(df_train, test_size=0.25, random_state=42)\n",
    "    y_test = df_test[\"Transported\"]\n",
    "\n",
    "X_test = df_test.drop(columns=[\"Transported\"]) if DEBUG else df_test\n",
    "\n",
    "X_train, y_train = (\n",
    "    df_train.drop(columns=[\"Transported\"]),\n",
    "    df_train[\"Transported\"],\n",
    ")"
   ]
  },
  {
   "cell_type": "markdown",
   "id": "e308d595",
   "metadata": {
    "papermill": {
     "duration": 0.023323,
     "end_time": "2022-09-30T02:18:55.101972",
     "exception": false,
     "start_time": "2022-09-30T02:18:55.078649",
     "status": "completed"
    },
    "tags": []
   },
   "source": [
    "### 6.A Encoding"
   ]
  },
  {
   "cell_type": "code",
   "execution_count": 29,
   "id": "fdcb4427",
   "metadata": {
    "papermill": {
     "duration": 0.11379,
     "end_time": "2022-09-30T02:18:55.239315",
     "exception": false,
     "start_time": "2022-09-30T02:18:55.125525",
     "status": "completed"
    },
    "tags": []
   },
   "outputs": [],
   "source": [
    "numeric_feats = [\n",
    "    \"total_spent\",\n",
    "    \"RoomService\",\n",
    "    \"FoodCourt\",\n",
    "    \"ShoppingMall\",\n",
    "    \"Spa\",\n",
    "    \"VRDeck\",\n",
    "]\n",
    "log_numeric_feats = [\n",
    "    \"Cabin_Num\",\n",
    "]\n",
    "ordinal_feats = [\n",
    "    \"AgeGroup\",\n",
    "]\n",
    "categorical_feats = [\n",
    "    \"HomePlanet\",\n",
    "    \"Destination\",\n",
    "    \"Deck\",\n",
    "]\n",
    "binary_feats = [\n",
    "    \"VIP\",\n",
    "    \"CryoSleep\",\n",
    "    \"Side\",    \n",
    "]\n",
    "drop_feats = [\n",
    "    \"Cabin\",\n",
    "    \"Name\",\n",
    "    \"Age\",\n",
    "]"
   ]
  },
  {
   "cell_type": "code",
   "execution_count": 30,
   "id": "421f8e40-57a6-4f61-b6d8-f0e6b6c7c86e",
   "metadata": {
    "papermill": {
     "duration": 0.11379,
     "end_time": "2022-09-30T02:18:55.239315",
     "exception": false,
     "start_time": "2022-09-30T02:18:55.125525",
     "status": "completed"
    },
    "tags": []
   },
   "outputs": [],
   "source": [
    "ct = make_column_transformer(\n",
    "    (RobustScaler(), numeric_feats),\n",
    "    (\n",
    "        make_pipeline(\n",
    "            PowerTransformer(),\n",
    "            RobustScaler()\n",
    "        ),\n",
    "        log_numeric_feats\n",
    "    ),\n",
    "    (OneHotEncoder(), categorical_feats),\n",
    "    (OrdinalEncoder(), binary_feats),\n",
    "    (OrdinalEncoder(), ordinal_feats),\n",
    "    (\"drop\", drop_feats),\n",
    ")"
   ]
  },
  {
   "cell_type": "code",
   "execution_count": 31,
   "id": "3f6347a2-b087-46ad-8a8a-d6d0a8f51f82",
   "metadata": {
    "papermill": {
     "duration": 0.11379,
     "end_time": "2022-09-30T02:18:55.239315",
     "exception": false,
     "start_time": "2022-09-30T02:18:55.125525",
     "status": "completed"
    },
    "tags": []
   },
   "outputs": [],
   "source": [
    "ct if VISUALIZING else None"
   ]
  },
  {
   "cell_type": "code",
   "execution_count": 32,
   "id": "e98db1f6-07c7-4d2e-87fd-dfdae13f82e0",
   "metadata": {
    "papermill": {
     "duration": 0.051466,
     "end_time": "2022-09-30T02:18:55.315266",
     "exception": false,
     "start_time": "2022-09-30T02:18:55.263800",
     "status": "completed"
    },
    "tags": []
   },
   "outputs": [],
   "source": [
    "transformed = ct.fit_transform(X_train)"
   ]
  },
  {
   "cell_type": "code",
   "execution_count": 33,
   "id": "8d09ad70-e90f-448b-ae01-9a0f0dde9120",
   "metadata": {
    "papermill": {
     "duration": 0.051466,
     "end_time": "2022-09-30T02:18:55.315266",
     "exception": false,
     "start_time": "2022-09-30T02:18:55.263800",
     "status": "completed"
    },
    "tags": []
   },
   "outputs": [],
   "source": [
    "column_names = ct.get_feature_names_out()\n",
    "clean_names = [name.split(\"__\", 1)[-1] for name in column_names]\n",
    "\n",
    "transformed = pd.DataFrame(transformed, columns=clean_names)"
   ]
  },
  {
   "cell_type": "code",
   "execution_count": 34,
   "id": "815e0e76",
   "metadata": {
    "papermill": {
     "duration": 0.051466,
     "end_time": "2022-09-30T02:18:55.315266",
     "exception": false,
     "start_time": "2022-09-30T02:18:55.263800",
     "status": "completed"
    },
    "tags": []
   },
   "outputs": [],
   "source": [
    "pd.DataFrame(transformed).head() if VISUALIZING else None"
   ]
  },
  {
   "cell_type": "markdown",
   "id": "e4431830",
   "metadata": {
    "papermill": {
     "duration": 0.024892,
     "end_time": "2022-09-30T02:18:55.365782",
     "exception": false,
     "start_time": "2022-09-30T02:18:55.340890",
     "status": "completed"
    },
    "tags": []
   },
   "source": [
    "### 6.B Heatmap"
   ]
  },
  {
   "cell_type": "code",
   "execution_count": 35,
   "id": "a53ea8a2",
   "metadata": {
    "papermill": {
     "duration": 1.551821,
     "end_time": "2022-09-30T02:18:57.008397",
     "exception": false,
     "start_time": "2022-09-30T02:18:55.456576",
     "status": "completed"
    },
    "tags": []
   },
   "outputs": [],
   "source": [
    "plt.figure(figsize=(55,30)) if VISUALIZING else None\n",
    "sns.heatmap(transformed.corr(), annot=True) if VISUALIZING else None"
   ]
  },
  {
   "cell_type": "markdown",
   "id": "96a8873b-7e56-4d58-abcb-2503dee2543d",
   "metadata": {},
   "source": [
    "### 7. Models"
   ]
  },
  {
   "cell_type": "code",
   "execution_count": 36,
   "id": "c6e466ce-a79c-4425-8e43-2731dae2b465",
   "metadata": {},
   "outputs": [],
   "source": [
    "results = {}\n",
    "\n",
    "def mean_std_cross_val_scores(model, X_train, y_train, **kwargs):\n",
    "    \"\"\"\n",
    "    Returns mean and std of cross validation\n",
    "\n",
    "    Parameters\n",
    "    ----------\n",
    "    model :\n",
    "        scikit-learn model\n",
    "    X_train : numpy array or pandas DataFrame\n",
    "        X in the training data\n",
    "    y_train :\n",
    "        y in the training data\n",
    "\n",
    "    Returns\n",
    "    ----------\n",
    "        pandas Series with mean scores from cross_validation\n",
    "    \"\"\"\n",
    "\n",
    "    scores = cross_validate(model, X_train, y_train, **kwargs)\n",
    "\n",
    "    mean_scores = pd.DataFrame(scores).mean()\n",
    "    std_scores = pd.DataFrame(scores).std()\n",
    "    out_col = []\n",
    "\n",
    "    for i in range(len(mean_scores)):\n",
    "        out_col.append((f\"%0.3f (+/- %0.3f)\" % (mean_scores[i], std_scores[i])))\n",
    "\n",
    "    return pd.Series(data=out_col, index=mean_scores.index)"
   ]
  },
  {
   "cell_type": "code",
   "execution_count": 37,
   "id": "eb72fb4e",
   "metadata": {},
   "outputs": [],
   "source": [
    "if COMPARING_MODELS:\n",
    "    models = {\n",
    "        \"dummy\": DummyClassifier(),\n",
    "        \"decision tree\": DecisionTreeClassifier(),\n",
    "        \"kNN\": KNeighborsClassifier(),\n",
    "        \"RBF SVM\": SVC(),\n",
    "    }\n",
    "    \n",
    "    for name, model in models.items():\n",
    "        pipeline = make_pipeline(ct, model)\n",
    "        results[name] = mean_std_cross_val_scores(\n",
    "            pipeline, X_train, y_train, cv=5, return_train_score=True, error_score=\"raise\"\n",
    "        )"
   ]
  },
  {
   "cell_type": "code",
   "execution_count": 38,
   "id": "8359eb5f",
   "metadata": {},
   "outputs": [],
   "source": [
    "if COMPARING_MODELS:\n",
    "    param_grid = {\"C\": np.logspace(-2, 2, 5)}\n",
    "    \n",
    "    for C_val in param_grid[\"C\"]:\n",
    "        pipeline = make_pipeline(preprocessor, SVC(C=c))\n",
    "        results[f\"SVC (C={C_val})\"] = mean_std_cross_val_scores(\n",
    "            SVC(C=C_val), X_train, y_train, cv=5, return_train_score=True\n",
    "        )"
   ]
  },
  {
   "cell_type": "code",
   "execution_count": 39,
   "id": "f0b9ecec",
   "metadata": {},
   "outputs": [],
   "source": [
    "pd.DataFrame(results) if COMPARING_MODELS else None"
   ]
  },
  {
   "cell_type": "code",
   "execution_count": 40,
   "id": "ad113fe1",
   "metadata": {},
   "outputs": [],
   "source": [
    "pd.DataFrame(results).T[\"test_score\"] if COMPARING_MODELS else None"
   ]
  },
  {
   "cell_type": "code",
   "execution_count": 41,
   "id": "3cb6d93e-c594-4918-82db-a4506292e982",
   "metadata": {},
   "outputs": [],
   "source": [
    "SVC_c10_model = make_pipeline(ct, SVC(C=10)).fit(X_train, y_train)\n",
    "SVC_c10_model if VISUALIZING else None"
   ]
  },
  {
   "cell_type": "code",
   "execution_count": 42,
   "id": "02e19684-81ec-44ef-ae52-b2578cbc8ad8",
   "metadata": {},
   "outputs": [],
   "source": [
    "y_pred = SVC_c10_model.predict(X_test)"
   ]
  },
  {
   "cell_type": "code",
   "execution_count": 43,
   "id": "0f52c8ef-f82e-4914-aee0-1087b9acf95b",
   "metadata": {},
   "outputs": [],
   "source": [
    "accuracy_score(y_test, y_pred) if DEBUG else None"
   ]
  },
  {
   "cell_type": "code",
   "execution_count": 44,
   "id": "ed2c400d-562d-4738-83b3-36ccda9ab604",
   "metadata": {},
   "outputs": [
    {
     "data": {
      "text/html": [
       "<div>\n",
       "<style scoped>\n",
       "    .dataframe tbody tr th:only-of-type {\n",
       "        vertical-align: middle;\n",
       "    }\n",
       "\n",
       "    .dataframe tbody tr th {\n",
       "        vertical-align: top;\n",
       "    }\n",
       "\n",
       "    .dataframe thead th {\n",
       "        text-align: right;\n",
       "    }\n",
       "</style>\n",
       "<table border=\"1\" class=\"dataframe\">\n",
       "  <thead>\n",
       "    <tr style=\"text-align: right;\">\n",
       "      <th></th>\n",
       "      <th>Transported</th>\n",
       "    </tr>\n",
       "    <tr>\n",
       "      <th>PassengerId</th>\n",
       "      <th></th>\n",
       "    </tr>\n",
       "  </thead>\n",
       "  <tbody>\n",
       "    <tr>\n",
       "      <th>0013_01</th>\n",
       "      <td>True</td>\n",
       "    </tr>\n",
       "    <tr>\n",
       "      <th>0018_01</th>\n",
       "      <td>False</td>\n",
       "    </tr>\n",
       "    <tr>\n",
       "      <th>0019_01</th>\n",
       "      <td>True</td>\n",
       "    </tr>\n",
       "    <tr>\n",
       "      <th>0021_01</th>\n",
       "      <td>True</td>\n",
       "    </tr>\n",
       "    <tr>\n",
       "      <th>0023_01</th>\n",
       "      <td>True</td>\n",
       "    </tr>\n",
       "  </tbody>\n",
       "</table>\n",
       "</div>"
      ],
      "text/plain": [
       "             Transported\n",
       "PassengerId             \n",
       "0013_01             True\n",
       "0018_01            False\n",
       "0019_01             True\n",
       "0021_01             True\n",
       "0023_01             True"
      ]
     },
     "execution_count": 44,
     "metadata": {},
     "output_type": "execute_result"
    }
   ],
   "source": [
    "sub = pd.DataFrame({'Transported':y_pred.astype(bool)}, index=df_test.index)\n",
    "\n",
    "sub.head()"
   ]
  },
  {
   "cell_type": "code",
   "execution_count": 45,
   "id": "43780e03-3417-4a24-8873-59172e64e096",
   "metadata": {},
   "outputs": [],
   "source": [
    "sub.to_csv(\"submission.csv\")"
   ]
  }
 ],
 "metadata": {
  "kernelspec": {
   "display_name": "CS4320",
   "language": "python",
   "name": "cs4320"
  },
  "language_info": {
   "codemirror_mode": {
    "name": "ipython",
    "version": 3
   },
   "file_extension": ".py",
   "mimetype": "text/x-python",
   "name": "python",
   "nbconvert_exporter": "python",
   "pygments_lexer": "ipython3",
   "version": "3.11.13"
  },
  "papermill": {
   "default_parameters": {},
   "duration": 289.117651,
   "end_time": "2022-09-30T02:22:45.065277",
   "environment_variables": {},
   "exception": null,
   "input_path": "__notebook__.ipynb",
   "output_path": "__notebook__.ipynb",
   "parameters": {},
   "start_time": "2022-09-30T02:17:55.947626",
   "version": "2.3.4"
  }
 },
 "nbformat": 4,
 "nbformat_minor": 5
}
